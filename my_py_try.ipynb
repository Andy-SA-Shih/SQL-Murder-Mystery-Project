{
 "cells": [
  {
   "cell_type": "markdown",
   "id": "9528b146",
   "metadata": {},
   "source": [
    "# SQL Murder Mystery\n",
    "## I use python's sqlite3 library to solve the mystery\n",
    "### Author: Andy Shih\n",
    "***Disclaimer: I referred to some of the Python syntax from https://www.kaggle.com/datasets/johnp47/sql-murder-mystery-database, who solved the same mystery.***"
   ]
  },
  {
   "cell_type": "markdown",
   "id": "d0f36889",
   "metadata": {},
   "source": [
    "The benefits of using Python to integrate SQL queries:\n",
    "- If using jupyter notebook, it is good for visualization and data analysis projects as I can run each query in each chunk and visualize the results. In addition, markdown chunks are useful too.\n",
    "- I can use Pandas to visualize a data frame (a query result or just the raw table) or save a new dataframe more easily for further manipulation\n",
    "- To reach the final goal -- use SQL syntax for database management and extract the table I need for further analysis. Subsequently, use Python or R for more work."
   ]
  },
  {
   "cell_type": "markdown",
   "id": "6e238001",
   "metadata": {},
   "source": [
    "**Below is the schema of the database** "
   ]
  },
  {
   "cell_type": "markdown",
   "id": "31f080df",
   "metadata": {},
   "source": [
    "![Schema](https://raw.githubusercontent.com/NUKnightLab/sql-mysteries/master/schema.png)"
   ]
  },
  {
   "cell_type": "code",
   "execution_count": 3,
   "id": "54401504",
   "metadata": {},
   "outputs": [],
   "source": [
    "# import libraries\n",
    "import pandas as pd\n",
    "import sqlite3 as sql"
   ]
  },
  {
   "cell_type": "code",
   "execution_count": 6,
   "id": "16e95c1b",
   "metadata": {},
   "outputs": [],
   "source": [
    "#setting up a connection to the database\n",
    "con = sql.connect('/Users/andy/software learning/SQL_projects/Muder_mystery_project/sql-murder-mystery.db')"
   ]
  },
  {
   "cell_type": "markdown",
   "id": "2d6894e2",
   "metadata": {},
   "source": [
    "**the crime was a \"​murder\"​ that occurred sometime on ​Jan.15, 2018​ \n",
    "and that it took place in ​SQL City​.**"
   ]
  },
  {
   "cell_type": "code",
   "execution_count": 7,
   "id": "dd488d31",
   "metadata": {},
   "outputs": [
    {
     "data": {
      "text/html": [
       "<div>\n",
       "<style scoped>\n",
       "    .dataframe tbody tr th:only-of-type {\n",
       "        vertical-align: middle;\n",
       "    }\n",
       "\n",
       "    .dataframe tbody tr th {\n",
       "        vertical-align: top;\n",
       "    }\n",
       "\n",
       "    .dataframe thead th {\n",
       "        text-align: right;\n",
       "    }\n",
       "</style>\n",
       "<table border=\"1\" class=\"dataframe\">\n",
       "  <thead>\n",
       "    <tr style=\"text-align: right;\">\n",
       "      <th></th>\n",
       "      <th>date</th>\n",
       "      <th>type</th>\n",
       "      <th>description</th>\n",
       "      <th>city</th>\n",
       "    </tr>\n",
       "  </thead>\n",
       "  <tbody>\n",
       "    <tr>\n",
       "      <th>0</th>\n",
       "      <td>20180115</td>\n",
       "      <td>murder</td>\n",
       "      <td>Security footage shows that there were 2 witnesses. The first witness lives at the last house on \"Northwestern Dr\". The second witness, named Annabel, lives somewhere on \"Franklin Ave\".</td>\n",
       "      <td>SQL City</td>\n",
       "    </tr>\n",
       "  </tbody>\n",
       "</table>\n",
       "</div>"
      ],
      "text/plain": [
       "       date    type  \\\n",
       "0  20180115  murder   \n",
       "\n",
       "                                                                                                                                                                                 description  \\\n",
       "0  Security footage shows that there were 2 witnesses. The first witness lives at the last house on \"Northwestern Dr\". The second witness, named Annabel, lives somewhere on \"Franklin Ave\".   \n",
       "\n",
       "       city  \n",
       "0  SQL City  "
      ]
     },
     "execution_count": 7,
     "metadata": {},
     "output_type": "execute_result"
    }
   ],
   "source": [
    "query_1 = '''\n",
    "SELECT * FROM crime_scene_report\n",
    "WHERE date == 20180115\n",
    "AND\n",
    "type == 'murder'\n",
    "AND\n",
    "city == 'SQL City';\n",
    "'''\n",
    "# seting the dataframe width to max to better visualize\n",
    "pd.set_option('display.max_colwidth', None)\n",
    "# run the query\n",
    "pd.read_sql_query(query_1, con)"
   ]
  },
  {
   "cell_type": "markdown",
   "id": "26f83d34",
   "metadata": {},
   "source": [
    "**From the report, we know that the Security footage shows that there were 2 witnesses. \n",
    "The first witness lives at the last house on \"Northwestern Dr\". \n",
    "The second witness, named Annabel, lives somewhere on \"Franklin Ave\".**"
   ]
  },
  {
   "cell_type": "code",
   "execution_count": 16,
   "id": "bdc6298d",
   "metadata": {},
   "outputs": [
    {
     "data": {
      "text/html": [
       "<div>\n",
       "<style scoped>\n",
       "    .dataframe tbody tr th:only-of-type {\n",
       "        vertical-align: middle;\n",
       "    }\n",
       "\n",
       "    .dataframe tbody tr th {\n",
       "        vertical-align: top;\n",
       "    }\n",
       "\n",
       "    .dataframe thead th {\n",
       "        text-align: right;\n",
       "    }\n",
       "</style>\n",
       "<table border=\"1\" class=\"dataframe\">\n",
       "  <thead>\n",
       "    <tr style=\"text-align: right;\">\n",
       "      <th></th>\n",
       "      <th>id</th>\n",
       "      <th>name</th>\n",
       "      <th>license_id</th>\n",
       "      <th>address_number</th>\n",
       "      <th>address_street_name</th>\n",
       "      <th>ssn</th>\n",
       "    </tr>\n",
       "  </thead>\n",
       "  <tbody>\n",
       "    <tr>\n",
       "      <th>0</th>\n",
       "      <td>14887</td>\n",
       "      <td>Morty Schapiro</td>\n",
       "      <td>118009</td>\n",
       "      <td>4919</td>\n",
       "      <td>Northwestern Dr</td>\n",
       "      <td>111564949</td>\n",
       "    </tr>\n",
       "  </tbody>\n",
       "</table>\n",
       "</div>"
      ],
      "text/plain": [
       "      id            name  license_id  address_number address_street_name  \\\n",
       "0  14887  Morty Schapiro      118009            4919     Northwestern Dr   \n",
       "\n",
       "         ssn  \n",
       "0  111564949  "
      ]
     },
     "execution_count": 16,
     "metadata": {},
     "output_type": "execute_result"
    }
   ],
   "source": [
    "# the first witness\n",
    "query = '''SELECT * FROM person\n",
    "WHERE address_street_name == 'Northwestern Dr'\n",
    "ORDER BY address_number desc;\n",
    "'''\n",
    "pd.read_sql_query(query, con)[:1] # There are several ways to extract the info using Pandas syntax on a data frame.\n",
    "## First: just like above, index starts from 1\n",
    "## Second: pd.read_sql_query(query, con).loc[:0]: loc argument, starting from 0, like general python\n",
    "## Third: pd.read_sql_query(query, con).iloc[:1]: iloc argument, starting from 1"
   ]
  },
  {
   "cell_type": "code",
   "execution_count": 18,
   "id": "c0bbde23",
   "metadata": {},
   "outputs": [
    {
     "data": {
      "text/html": [
       "<div>\n",
       "<style scoped>\n",
       "    .dataframe tbody tr th:only-of-type {\n",
       "        vertical-align: middle;\n",
       "    }\n",
       "\n",
       "    .dataframe tbody tr th {\n",
       "        vertical-align: top;\n",
       "    }\n",
       "\n",
       "    .dataframe thead th {\n",
       "        text-align: right;\n",
       "    }\n",
       "</style>\n",
       "<table border=\"1\" class=\"dataframe\">\n",
       "  <thead>\n",
       "    <tr style=\"text-align: right;\">\n",
       "      <th></th>\n",
       "      <th>id</th>\n",
       "      <th>name</th>\n",
       "      <th>license_id</th>\n",
       "      <th>address_number</th>\n",
       "      <th>address_street_name</th>\n",
       "      <th>ssn</th>\n",
       "    </tr>\n",
       "  </thead>\n",
       "  <tbody>\n",
       "    <tr>\n",
       "      <th>0</th>\n",
       "      <td>16371</td>\n",
       "      <td>Annabel Miller</td>\n",
       "      <td>490173</td>\n",
       "      <td>103</td>\n",
       "      <td>Franklin Ave</td>\n",
       "      <td>318771143</td>\n",
       "    </tr>\n",
       "  </tbody>\n",
       "</table>\n",
       "</div>"
      ],
      "text/plain": [
       "      id            name  license_id  address_number address_street_name  \\\n",
       "0  16371  Annabel Miller      490173             103        Franklin Ave   \n",
       "\n",
       "         ssn  \n",
       "0  318771143  "
      ]
     },
     "execution_count": 18,
     "metadata": {},
     "output_type": "execute_result"
    }
   ],
   "source": [
    "# the second witness\n",
    "query = '''\n",
    "SELECT * FROM person \n",
    "WHERE address_street_name == 'Franklin Ave'\n",
    "AND\n",
    "name LIKE '%Annabel%'\n",
    "'''\n",
    "pd.read_sql_query(query, con)"
   ]
  },
  {
   "cell_type": "markdown",
   "id": "b750bc9a",
   "metadata": {},
   "source": [
    "**Go to the interview table to see what they said**"
   ]
  },
  {
   "cell_type": "code",
   "execution_count": 19,
   "id": "a7302e91",
   "metadata": {},
   "outputs": [
    {
     "data": {
      "text/html": [
       "<div>\n",
       "<style scoped>\n",
       "    .dataframe tbody tr th:only-of-type {\n",
       "        vertical-align: middle;\n",
       "    }\n",
       "\n",
       "    .dataframe tbody tr th {\n",
       "        vertical-align: top;\n",
       "    }\n",
       "\n",
       "    .dataframe thead th {\n",
       "        text-align: right;\n",
       "    }\n",
       "</style>\n",
       "<table border=\"1\" class=\"dataframe\">\n",
       "  <thead>\n",
       "    <tr style=\"text-align: right;\">\n",
       "      <th></th>\n",
       "      <th>person_id</th>\n",
       "      <th>transcript</th>\n",
       "    </tr>\n",
       "  </thead>\n",
       "  <tbody>\n",
       "    <tr>\n",
       "      <th>0</th>\n",
       "      <td>14887</td>\n",
       "      <td>I heard a gunshot and then saw a man run out. He had a \"Get Fit Now Gym\" bag. The membership number on the bag started with \"48Z\". Only gold members have those bags. The man got into a car with a plate that included \"H42W\".</td>\n",
       "    </tr>\n",
       "    <tr>\n",
       "      <th>1</th>\n",
       "      <td>16371</td>\n",
       "      <td>I saw the murder happen, and I recognized the killer from my gym when I was working out last week on January the 9th.</td>\n",
       "    </tr>\n",
       "  </tbody>\n",
       "</table>\n",
       "</div>"
      ],
      "text/plain": [
       "   person_id  \\\n",
       "0      14887   \n",
       "1      16371   \n",
       "\n",
       "                                                                                                                                                                                                                        transcript  \n",
       "0  I heard a gunshot and then saw a man run out. He had a \"Get Fit Now Gym\" bag. The membership number on the bag started with \"48Z\". Only gold members have those bags. The man got into a car with a plate that included \"H42W\".  \n",
       "1                                                                                                            I saw the murder happen, and I recognized the killer from my gym when I was working out last week on January the 9th.  "
      ]
     },
     "execution_count": 19,
     "metadata": {},
     "output_type": "execute_result"
    }
   ],
   "source": [
    "query = '''\n",
    "SELECT * FROM interview\n",
    "WHERE person_id == 14887\n",
    "OR person_id == 16371;'''\n",
    "pd.read_sql_query(query, con)"
   ]
  },
  {
   "cell_type": "markdown",
   "id": "dcb4ee28",
   "metadata": {},
   "source": [
    "**Go to the two gym tables to find the suspect**"
   ]
  },
  {
   "cell_type": "code",
   "execution_count": 20,
   "id": "c7d68df9",
   "metadata": {},
   "outputs": [
    {
     "data": {
      "text/html": [
       "<div>\n",
       "<style scoped>\n",
       "    .dataframe tbody tr th:only-of-type {\n",
       "        vertical-align: middle;\n",
       "    }\n",
       "\n",
       "    .dataframe tbody tr th {\n",
       "        vertical-align: top;\n",
       "    }\n",
       "\n",
       "    .dataframe thead th {\n",
       "        text-align: right;\n",
       "    }\n",
       "</style>\n",
       "<table border=\"1\" class=\"dataframe\">\n",
       "  <thead>\n",
       "    <tr style=\"text-align: right;\">\n",
       "      <th></th>\n",
       "      <th>id</th>\n",
       "      <th>person_id</th>\n",
       "      <th>name</th>\n",
       "      <th>membership_start_date</th>\n",
       "      <th>membership_status</th>\n",
       "      <th>membership_id</th>\n",
       "      <th>check_in_date</th>\n",
       "      <th>check_in_time</th>\n",
       "      <th>check_out_time</th>\n",
       "    </tr>\n",
       "  </thead>\n",
       "  <tbody>\n",
       "    <tr>\n",
       "      <th>0</th>\n",
       "      <td>48Z7A</td>\n",
       "      <td>28819</td>\n",
       "      <td>Joe Germuska</td>\n",
       "      <td>20160305</td>\n",
       "      <td>gold</td>\n",
       "      <td>48Z7A</td>\n",
       "      <td>20180109</td>\n",
       "      <td>1600</td>\n",
       "      <td>1730</td>\n",
       "    </tr>\n",
       "    <tr>\n",
       "      <th>1</th>\n",
       "      <td>48Z55</td>\n",
       "      <td>67318</td>\n",
       "      <td>Jeremy Bowers</td>\n",
       "      <td>20160101</td>\n",
       "      <td>gold</td>\n",
       "      <td>48Z55</td>\n",
       "      <td>20180109</td>\n",
       "      <td>1530</td>\n",
       "      <td>1700</td>\n",
       "    </tr>\n",
       "  </tbody>\n",
       "</table>\n",
       "</div>"
      ],
      "text/plain": [
       "      id  person_id           name  membership_start_date membership_status  \\\n",
       "0  48Z7A      28819   Joe Germuska               20160305              gold   \n",
       "1  48Z55      67318  Jeremy Bowers               20160101              gold   \n",
       "\n",
       "  membership_id  check_in_date  check_in_time  check_out_time  \n",
       "0         48Z7A       20180109           1600            1730  \n",
       "1         48Z55       20180109           1530            1700  "
      ]
     },
     "execution_count": 20,
     "metadata": {},
     "output_type": "execute_result"
    }
   ],
   "source": [
    "# Merge the two clues together (the gym part)\n",
    "query = '''\n",
    "SELECT * FROM get_fit_now_member\n",
    "JOIN get_fit_now_check_in\n",
    "ON\n",
    "get_fit_now_member.id == get_fit_now_check_in.membership_id\n",
    "WHERE get_fit_now_member.id LIKE '48Z%'\n",
    "AND\n",
    "get_fit_now_member.membership_status == 'gold'\n",
    "AND\n",
    "get_fit_now_check_in.check_in_date == 20180109;'''\n",
    "pd.read_sql_query(query, con)"
   ]
  },
  {
   "cell_type": "code",
   "execution_count": 21,
   "id": "0265d4d5",
   "metadata": {},
   "outputs": [
    {
     "data": {
      "text/html": [
       "<div>\n",
       "<style scoped>\n",
       "    .dataframe tbody tr th:only-of-type {\n",
       "        vertical-align: middle;\n",
       "    }\n",
       "\n",
       "    .dataframe tbody tr th {\n",
       "        vertical-align: top;\n",
       "    }\n",
       "\n",
       "    .dataframe thead th {\n",
       "        text-align: right;\n",
       "    }\n",
       "</style>\n",
       "<table border=\"1\" class=\"dataframe\">\n",
       "  <thead>\n",
       "    <tr style=\"text-align: right;\">\n",
       "      <th></th>\n",
       "      <th>id</th>\n",
       "      <th>name</th>\n",
       "      <th>license_id</th>\n",
       "      <th>address_number</th>\n",
       "      <th>address_street_name</th>\n",
       "      <th>ssn</th>\n",
       "      <th>id</th>\n",
       "      <th>age</th>\n",
       "      <th>height</th>\n",
       "      <th>eye_color</th>\n",
       "      <th>hair_color</th>\n",
       "      <th>gender</th>\n",
       "      <th>plate_number</th>\n",
       "      <th>car_make</th>\n",
       "      <th>car_model</th>\n",
       "    </tr>\n",
       "  </thead>\n",
       "  <tbody>\n",
       "    <tr>\n",
       "      <th>0</th>\n",
       "      <td>51739</td>\n",
       "      <td>Tushar Chandra</td>\n",
       "      <td>664760</td>\n",
       "      <td>312</td>\n",
       "      <td>Phi St</td>\n",
       "      <td>137882671</td>\n",
       "      <td>664760</td>\n",
       "      <td>21</td>\n",
       "      <td>71</td>\n",
       "      <td>black</td>\n",
       "      <td>black</td>\n",
       "      <td>male</td>\n",
       "      <td>4H42WR</td>\n",
       "      <td>Nissan</td>\n",
       "      <td>Altima</td>\n",
       "    </tr>\n",
       "    <tr>\n",
       "      <th>1</th>\n",
       "      <td>67318</td>\n",
       "      <td>Jeremy Bowers</td>\n",
       "      <td>423327</td>\n",
       "      <td>530</td>\n",
       "      <td>Washington Pl, Apt 3A</td>\n",
       "      <td>871539279</td>\n",
       "      <td>423327</td>\n",
       "      <td>30</td>\n",
       "      <td>70</td>\n",
       "      <td>brown</td>\n",
       "      <td>brown</td>\n",
       "      <td>male</td>\n",
       "      <td>0H42W2</td>\n",
       "      <td>Chevrolet</td>\n",
       "      <td>Spark LS</td>\n",
       "    </tr>\n",
       "    <tr>\n",
       "      <th>2</th>\n",
       "      <td>78193</td>\n",
       "      <td>Maxine Whitely</td>\n",
       "      <td>183779</td>\n",
       "      <td>110</td>\n",
       "      <td>Fisk Rd</td>\n",
       "      <td>137882671</td>\n",
       "      <td>183779</td>\n",
       "      <td>21</td>\n",
       "      <td>65</td>\n",
       "      <td>blue</td>\n",
       "      <td>blonde</td>\n",
       "      <td>female</td>\n",
       "      <td>H42W0X</td>\n",
       "      <td>Toyota</td>\n",
       "      <td>Prius</td>\n",
       "    </tr>\n",
       "  </tbody>\n",
       "</table>\n",
       "</div>"
      ],
      "text/plain": [
       "      id            name  license_id  address_number    address_street_name  \\\n",
       "0  51739  Tushar Chandra      664760             312                 Phi St   \n",
       "1  67318   Jeremy Bowers      423327             530  Washington Pl, Apt 3A   \n",
       "2  78193  Maxine Whitely      183779             110                Fisk Rd   \n",
       "\n",
       "         ssn      id  age  height eye_color hair_color  gender plate_number  \\\n",
       "0  137882671  664760   21      71     black      black    male       4H42WR   \n",
       "1  871539279  423327   30      70     brown      brown    male       0H42W2   \n",
       "2  137882671  183779   21      65      blue     blonde  female       H42W0X   \n",
       "\n",
       "    car_make car_model  \n",
       "0     Nissan    Altima  \n",
       "1  Chevrolet  Spark LS  \n",
       "2     Toyota     Prius  "
      ]
     },
     "execution_count": 21,
     "metadata": {},
     "output_type": "execute_result"
    }
   ],
   "source": [
    "# To integrate with the car details\n",
    "query = '''\n",
    "SELECT * FROM person\n",
    "JOIN drivers_license\n",
    "ON person.license_id == drivers_license.id\n",
    "WHERE plate_number LIKE '%H42W%';'''\n",
    "pd.read_sql_query(query, con)"
   ]
  },
  {
   "cell_type": "markdown",
   "id": "b6a62d3a",
   "metadata": {},
   "source": [
    "**Now, I am certain that the suspect is Jeremy Bowers with person id 67318**"
   ]
  },
  {
   "cell_type": "markdown",
   "id": "9c7d6a7a",
   "metadata": {},
   "source": [
    "## To test my answer (copy the below and paste it on https://mystery.knightlab.com/)"
   ]
  },
  {
   "cell_type": "markdown",
   "id": "45e94c9e",
   "metadata": {},
   "source": [
    ">INSERT INTO solution VALUES (1, 'Jeremy Bowers');  \n",
    "        SELECT value FROM solution;\n",
    "\n",
    "**Congrats, you found the murderer! But wait, there's more... If you think you're up for a challenge, \n",
    "try querying the interview transcript of the murderer to find the real villain behind this crime. \n",
    "If you feel especially confident in your SQL skills, try to complete this final step with no more \n",
    "than 2 queries. Use this same INSERT statement with your new suspect to check your answer.**"
   ]
  },
  {
   "cell_type": "markdown",
   "id": "75839742",
   "metadata": {},
   "source": [
    "***Here, of course I can use multiple queries, and manually extract some info, which may be clearer, but the below shows that it is possible to finish in one query.***"
   ]
  },
  {
   "cell_type": "markdown",
   "id": "788b8a38",
   "metadata": {},
   "source": [
    "**Query 1**"
   ]
  },
  {
   "cell_type": "code",
   "execution_count": 27,
   "id": "96350971",
   "metadata": {},
   "outputs": [
    {
     "data": {
      "text/html": [
       "<div>\n",
       "<style scoped>\n",
       "    .dataframe tbody tr th:only-of-type {\n",
       "        vertical-align: middle;\n",
       "    }\n",
       "\n",
       "    .dataframe tbody tr th {\n",
       "        vertical-align: top;\n",
       "    }\n",
       "\n",
       "    .dataframe thead th {\n",
       "        text-align: right;\n",
       "    }\n",
       "</style>\n",
       "<table border=\"1\" class=\"dataframe\">\n",
       "  <thead>\n",
       "    <tr style=\"text-align: right;\">\n",
       "      <th></th>\n",
       "      <th>person_id</th>\n",
       "      <th>transcript</th>\n",
       "    </tr>\n",
       "  </thead>\n",
       "  <tbody>\n",
       "    <tr>\n",
       "      <th>0</th>\n",
       "      <td>67318</td>\n",
       "      <td>I was hired by a woman with a lot of money. I don't know her name but I know she's around 5'5\" (65\") or 5'7\" (67\"). She has red hair and she drives a Tesla Model S. I know that she attended the SQL Symphony Concert 3 times in December 2017.\\n</td>\n",
       "    </tr>\n",
       "  </tbody>\n",
       "</table>\n",
       "</div>"
      ],
      "text/plain": [
       "   person_id  \\\n",
       "0      67318   \n",
       "\n",
       "                                                                                                                                                                                                                                           transcript  \n",
       "0  I was hired by a woman with a lot of money. I don't know her name but I know she's around 5'5\" (65\") or 5'7\" (67\"). She has red hair and she drives a Tesla Model S. I know that she attended the SQL Symphony Concert 3 times in December 2017.\\n  "
      ]
     },
     "execution_count": 27,
     "metadata": {},
     "output_type": "execute_result"
    }
   ],
   "source": [
    "query = '''\n",
    "SELECT * FROM interview\n",
    "WHERE person_id == 67318;'''\n",
    "pd.read_sql_query(query, con)"
   ]
  },
  {
   "cell_type": "markdown",
   "id": "37378130",
   "metadata": {},
   "source": [
    "**Query 2** \n",
    "\n",
    "Below is the useful info from each table with * as the keys to use for join \n",
    "- For person table: *id, name, *license_id\n",
    "- For drivers_license table: *license_id, height, hair_color, car_model\n",
    "- For fb event table: *person_id, event_id, event_name, date\n",
    "- To me, after trying, I think I need to use WITH to make a temp table for the event first"
   ]
  },
  {
   "cell_type": "code",
   "execution_count": 28,
   "id": "89896b43",
   "metadata": {},
   "outputs": [
    {
     "data": {
      "text/html": [
       "<div>\n",
       "<style scoped>\n",
       "    .dataframe tbody tr th:only-of-type {\n",
       "        vertical-align: middle;\n",
       "    }\n",
       "\n",
       "    .dataframe tbody tr th {\n",
       "        vertical-align: top;\n",
       "    }\n",
       "\n",
       "    .dataframe thead th {\n",
       "        text-align: right;\n",
       "    }\n",
       "</style>\n",
       "<table border=\"1\" class=\"dataframe\">\n",
       "  <thead>\n",
       "    <tr style=\"text-align: right;\">\n",
       "      <th></th>\n",
       "      <th>id</th>\n",
       "      <th>name</th>\n",
       "    </tr>\n",
       "  </thead>\n",
       "  <tbody>\n",
       "    <tr>\n",
       "      <th>0</th>\n",
       "      <td>99716</td>\n",
       "      <td>Miranda Priestly</td>\n",
       "    </tr>\n",
       "  </tbody>\n",
       "</table>\n",
       "</div>"
      ],
      "text/plain": [
       "      id              name\n",
       "0  99716  Miranda Priestly"
      ]
     },
     "execution_count": 28,
     "metadata": {},
     "output_type": "execute_result"
    }
   ],
   "source": [
    "query = '''\n",
    "WITH temp AS(\n",
    "SELECT person_id, COUNT(*) FROM facebook_event_checkin -- Here, it could be COUNT(*) or COUNT(any col of the table)\n",
    "WHERE event_name == 'SQL Symphony Concert' AND\n",
    "date LIKE '201712%'\n",
    "GROUP BY person_id \n",
    "HAVING COUNT(*) == 3\n",
    ") -- in aggregation, only HAVING is allowed but not WHERE. ALSO, I should group by first before using conditions\n",
    "--SELECT * FROM temp; -- 24556 or 99716. It worked!\n",
    "\n",
    "SELECT person.id, person.name FROM person\n",
    "JOIN drivers_license\n",
    "ON person.license_id == drivers_license.id\n",
    "JOIN temp\n",
    "ON person.id == temp.person_id\n",
    "WHERE drivers_license.height BETWEEN 65 AND 67\n",
    "AND\n",
    "drivers_license.hair_color == 'red'\n",
    "AND\n",
    "drivers_license.car_model == 'Model S';'''\n",
    "\n",
    "pd.read_sql_query(query, con)"
   ]
  },
  {
   "cell_type": "markdown",
   "id": "c89b2c9c",
   "metadata": {},
   "source": [
    "## To test my answer (copy the below and paste it on https://mystery.knightlab.com/)"
   ]
  },
  {
   "cell_type": "markdown",
   "id": "122d52ff",
   "metadata": {},
   "source": [
    ">INSERT INTO solution VALUES (1, 'Miranda Priestly');  \n",
    "        SELECT value FROM solution; -- Done!\n",
    "\n",
    "**Congrats, you found the brains behind the murder! Everyone in SQL City hails you as the greatest SQL detective of all time. Time to break out the champagne!**"
   ]
  },
  {
   "cell_type": "code",
   "execution_count": null,
   "id": "1feff0de",
   "metadata": {},
   "outputs": [],
   "source": []
  },
  {
   "cell_type": "code",
   "execution_count": null,
   "id": "d74e4abc",
   "metadata": {},
   "outputs": [],
   "source": []
  },
  {
   "cell_type": "code",
   "execution_count": null,
   "id": "8318b348",
   "metadata": {},
   "outputs": [],
   "source": []
  }
 ],
 "metadata": {
  "kernelspec": {
   "display_name": "Python 3 (ipykernel)",
   "language": "python",
   "name": "python3"
  },
  "language_info": {
   "codemirror_mode": {
    "name": "ipython",
    "version": 3
   },
   "file_extension": ".py",
   "mimetype": "text/x-python",
   "name": "python",
   "nbconvert_exporter": "python",
   "pygments_lexer": "ipython3",
   "version": "3.9.7"
  }
 },
 "nbformat": 4,
 "nbformat_minor": 5
}
